{
 "cells": [
  {
   "cell_type": "code",
   "execution_count": 2,
   "metadata": {
    "collapsed": true
   },
   "outputs": [],
   "source": [
    "#Quora Dataset\n",
    "import pandas as pd\n",
    "df = pd.read_csv(\"/Users/kushansingh/Desktop/quora_kaggle/train.csv\",na_values=\"\")"
   ]
  },
  {
   "cell_type": "code",
   "execution_count": 3,
   "metadata": {},
   "outputs": [
    {
     "data": {
      "text/html": [
       "<div>\n",
       "<style>\n",
       "    .dataframe thead tr:only-child th {\n",
       "        text-align: right;\n",
       "    }\n",
       "\n",
       "    .dataframe thead th {\n",
       "        text-align: left;\n",
       "    }\n",
       "\n",
       "    .dataframe tbody tr th {\n",
       "        vertical-align: top;\n",
       "    }\n",
       "</style>\n",
       "<table border=\"1\" class=\"dataframe\">\n",
       "  <thead>\n",
       "    <tr style=\"text-align: right;\">\n",
       "      <th></th>\n",
       "      <th>qid</th>\n",
       "      <th>question_text</th>\n",
       "      <th>target</th>\n",
       "      <th>tokenized_sents</th>\n",
       "    </tr>\n",
       "  </thead>\n",
       "  <tbody>\n",
       "    <tr>\n",
       "      <th>0</th>\n",
       "      <td>00002165364db923c7e6</td>\n",
       "      <td>how did quebec nationalists see their province...</td>\n",
       "      <td>0</td>\n",
       "      <td>[how, did, quebec, nationalists, see, their, p...</td>\n",
       "    </tr>\n",
       "    <tr>\n",
       "      <th>1</th>\n",
       "      <td>000032939017120e6e44</td>\n",
       "      <td>do you have an adopted dog how would you encou...</td>\n",
       "      <td>0</td>\n",
       "      <td>[do, you, have, an, adopted, dog, how, would, ...</td>\n",
       "    </tr>\n",
       "    <tr>\n",
       "      <th>2</th>\n",
       "      <td>0000412ca6e4628ce2cf</td>\n",
       "      <td>why does velocity affect time does velocity af...</td>\n",
       "      <td>0</td>\n",
       "      <td>[why, does, velocity, affect, time, does, velo...</td>\n",
       "    </tr>\n",
       "    <tr>\n",
       "      <th>3</th>\n",
       "      <td>000042bf85aa498cd78e</td>\n",
       "      <td>how did otto von guericke used the magdeburg h...</td>\n",
       "      <td>0</td>\n",
       "      <td>[how, did, otto, von, guericke, used, the, mag...</td>\n",
       "    </tr>\n",
       "    <tr>\n",
       "      <th>4</th>\n",
       "      <td>0000455dfa3e01eae3af</td>\n",
       "      <td>can i convert montra helicon d to a mountain b...</td>\n",
       "      <td>0</td>\n",
       "      <td>[can, i, convert, montra, helicon, d, to, a, m...</td>\n",
       "    </tr>\n",
       "  </tbody>\n",
       "</table>\n",
       "</div>"
      ],
      "text/plain": [
       "                    qid                                      question_text  \\\n",
       "0  00002165364db923c7e6  how did quebec nationalists see their province...   \n",
       "1  000032939017120e6e44  do you have an adopted dog how would you encou...   \n",
       "2  0000412ca6e4628ce2cf  why does velocity affect time does velocity af...   \n",
       "3  000042bf85aa498cd78e  how did otto von guericke used the magdeburg h...   \n",
       "4  0000455dfa3e01eae3af  can i convert montra helicon d to a mountain b...   \n",
       "\n",
       "   target                                    tokenized_sents  \n",
       "0       0  [how, did, quebec, nationalists, see, their, p...  \n",
       "1       0  [do, you, have, an, adopted, dog, how, would, ...  \n",
       "2       0  [why, does, velocity, affect, time, does, velo...  \n",
       "3       0  [how, did, otto, von, guericke, used, the, mag...  \n",
       "4       0  [can, i, convert, montra, helicon, d, to, a, m...  "
      ]
     },
     "execution_count": 3,
     "metadata": {},
     "output_type": "execute_result"
    }
   ],
   "source": [
    "#stemming using PorterStemmer\n",
    "from nltk.stem import PorterStemmer\n",
    "from nltk.tokenize import word_tokenize\n",
    "from nltk.corpus import stopwords\n",
    "import string\n",
    "\n",
    "df['question_text'] = [x.lower() for x in df['question_text']]\n",
    "df['question_text'] = [x.translate(str.maketrans('','',string.punctuation)) for x in df['question_text']]\n",
    "df['question_text'] = [x.translate(str.maketrans('','','1234567890')) for x in df['question_text']]\n",
    "\n",
    "df['tokenized_sents'] = df.apply(lambda row: word_tokenize(row['question_text']), axis=1)\n",
    "df.head()"
   ]
  },
  {
   "cell_type": "code",
   "execution_count": 4,
   "metadata": {},
   "outputs": [
    {
     "data": {
      "text/html": [
       "<div>\n",
       "<style>\n",
       "    .dataframe thead tr:only-child th {\n",
       "        text-align: right;\n",
       "    }\n",
       "\n",
       "    .dataframe thead th {\n",
       "        text-align: left;\n",
       "    }\n",
       "\n",
       "    .dataframe tbody tr th {\n",
       "        vertical-align: top;\n",
       "    }\n",
       "</style>\n",
       "<table border=\"1\" class=\"dataframe\">\n",
       "  <thead>\n",
       "    <tr style=\"text-align: right;\">\n",
       "      <th></th>\n",
       "      <th>qid</th>\n",
       "      <th>question_text</th>\n",
       "      <th>target</th>\n",
       "      <th>tokenized_sents</th>\n",
       "    </tr>\n",
       "  </thead>\n",
       "  <tbody>\n",
       "    <tr>\n",
       "      <th>0</th>\n",
       "      <td>00002165364db923c7e6</td>\n",
       "      <td>how did quebec nationalists see their province...</td>\n",
       "      <td>0</td>\n",
       "      <td>[quebec, nationalists, see, province, nation]</td>\n",
       "    </tr>\n",
       "    <tr>\n",
       "      <th>1</th>\n",
       "      <td>000032939017120e6e44</td>\n",
       "      <td>do you have an adopted dog how would you encou...</td>\n",
       "      <td>0</td>\n",
       "      <td>[adopted, dog, would, encourage, people, adopt...</td>\n",
       "    </tr>\n",
       "    <tr>\n",
       "      <th>2</th>\n",
       "      <td>0000412ca6e4628ce2cf</td>\n",
       "      <td>why does velocity affect time does velocity af...</td>\n",
       "      <td>0</td>\n",
       "      <td>[velocity, affect, time, velocity, affect, spa...</td>\n",
       "    </tr>\n",
       "    <tr>\n",
       "      <th>3</th>\n",
       "      <td>000042bf85aa498cd78e</td>\n",
       "      <td>how did otto von guericke used the magdeburg h...</td>\n",
       "      <td>0</td>\n",
       "      <td>[otto, von, guericke, used, magdeburg, hemisph...</td>\n",
       "    </tr>\n",
       "    <tr>\n",
       "      <th>4</th>\n",
       "      <td>0000455dfa3e01eae3af</td>\n",
       "      <td>can i convert montra helicon d to a mountain b...</td>\n",
       "      <td>0</td>\n",
       "      <td>[convert, montra, helicon, mountain, bike, cha...</td>\n",
       "    </tr>\n",
       "  </tbody>\n",
       "</table>\n",
       "</div>"
      ],
      "text/plain": [
       "                    qid                                      question_text  \\\n",
       "0  00002165364db923c7e6  how did quebec nationalists see their province...   \n",
       "1  000032939017120e6e44  do you have an adopted dog how would you encou...   \n",
       "2  0000412ca6e4628ce2cf  why does velocity affect time does velocity af...   \n",
       "3  000042bf85aa498cd78e  how did otto von guericke used the magdeburg h...   \n",
       "4  0000455dfa3e01eae3af  can i convert montra helicon d to a mountain b...   \n",
       "\n",
       "   target                                    tokenized_sents  \n",
       "0       0      [quebec, nationalists, see, province, nation]  \n",
       "1       0  [adopted, dog, would, encourage, people, adopt...  \n",
       "2       0  [velocity, affect, time, velocity, affect, spa...  \n",
       "3       0  [otto, von, guericke, used, magdeburg, hemisph...  \n",
       "4       0  [convert, montra, helicon, mountain, bike, cha...  "
      ]
     },
     "execution_count": 4,
     "metadata": {},
     "output_type": "execute_result"
    }
   ],
   "source": [
    "# Removing Stop Words\n",
    "stop_words = set(stopwords.words('english'))\n",
    "def removeStopWords(word_tokens):\n",
    "    filtered_tokens = [w for w in word_tokens if w not in stop_words]\n",
    "    return filtered_tokens\n",
    "df['tokenized_sents'] = df.apply(lambda row: removeStopWords(row['tokenized_sents']),axis=1)\n",
    "df.head()"
   ]
  },
  {
   "cell_type": "code",
   "execution_count": null,
   "metadata": {
    "collapsed": true
   },
   "outputs": [],
   "source": []
  }
 ],
 "metadata": {
  "kernelspec": {
   "display_name": "Python 3",
   "language": "python",
   "name": "python3"
  },
  "language_info": {
   "codemirror_mode": {
    "name": "ipython",
    "version": 3
   },
   "file_extension": ".py",
   "mimetype": "text/x-python",
   "name": "python",
   "nbconvert_exporter": "python",
   "pygments_lexer": "ipython3",
   "version": "3.6.1"
  }
 },
 "nbformat": 4,
 "nbformat_minor": 2
}
